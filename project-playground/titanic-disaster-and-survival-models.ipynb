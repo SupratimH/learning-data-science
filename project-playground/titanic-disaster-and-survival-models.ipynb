{
 "cells": [
  {
   "cell_type": "markdown",
   "metadata": {},
   "source": [
    "# Titanic Disaster and Survival : Predictive Modelling\n",
    "#### Basic exploratory data analysis of the different features in Titanic passenger dataset, and an attempt to visualize the relationship between those features and chances of survival is complete in a previous notebook. In this notebook, attempt is made to build machine learning models which should be able to (as accurately as possible) predict the chance of survival of individual pasengers based on multiple features.\n",
    "### Solution Approch:\n",
    "1. Read data - COMPLETE\n",
    "2. Prepare data for analysis: Explore data - COMPLETE\n",
    "3. Prepare data for analysis: Pre-process data - COMPLETE (Will be repeated here to clean up data)\n",
    "4. Analyze data (through visualization) - COMPLETE\n",
    "5. Build prediction model and predict outcomes on unseen data - Will be executed here\n",
    "6. Report insights - Will be executed here\n",
    "\n",
    "#### Original Dataset is available at: https://www.kaggle.com/c/titanic\n",
    "\n",
    "#### Thank you for reading this notebook! The same is uploaded in Kaggle as well @ https://www.kaggle.com/supratimhaldar/titanic-disaster-and-survival-eda-and-prediction. Please share your thoughts, feedback and suggestions in the comments section, and upvote if you like this notebook :-)"
   ]
  },
  {
   "cell_type": "markdown",
   "metadata": {},
   "source": [
    "## Section 1 : Read input data"
   ]
  },
  {
   "cell_type": "code",
   "execution_count": 1,
   "metadata": {},
   "outputs": [
    {
     "data": {
      "application/javascript": [
       "\n",
       "IPython.OutputArea.prototype._should_scroll = function(lines) {\n",
       "    return false;\n",
       "}\n"
      ],
      "text/plain": [
       "<IPython.core.display.Javascript object>"
      ]
     },
     "metadata": {},
     "output_type": "display_data"
    }
   ],
   "source": [
    "# Import libraries\n",
    "import numpy as np\n",
    "import pandas as pd\n",
    "import matplotlib.pyplot as plt\n",
    "import seaborn as sns\n",
    "%matplotlib inline\n",
    "import warnings\n",
    "warnings.filterwarnings('ignore')\n",
    "import os\n",
    "from textwrap import wrap\n",
    "\n",
    "# Set default fontsize and colors for graphs, and other variable\n",
    "SMALL_SIZE, MEDIUM_SIZE, BIG_SIZE = 10, 12, 20\n",
    "plt.rc('font', size=MEDIUM_SIZE)       \n",
    "plt.rc('axes', titlesize=BIG_SIZE)     \n",
    "plt.rc('axes', labelsize=MEDIUM_SIZE)  \n",
    "plt.rc('xtick', labelsize=MEDIUM_SIZE) \n",
    "plt.rc('ytick', labelsize=MEDIUM_SIZE) \n",
    "plt.rc('legend', fontsize=SMALL_SIZE)  \n",
    "plt.rc('figure', titlesize=BIG_SIZE)\n",
    "my_colors = 'rgbkymc'\n",
    "RANDOM_STATE = 0\n",
    "#np.random.seed(0)\n",
    "\n",
    "# Disable scrolling for long output\n",
    "from IPython.display import display, Javascript\n",
    "disable_js = \"\"\"\n",
    "IPython.OutputArea.prototype._should_scroll = function(lines) {\n",
    "    return false;\n",
    "}\n",
    "\"\"\"\n",
    "display(Javascript(disable_js))"
   ]
  },
  {
   "cell_type": "code",
   "execution_count": 2,
   "metadata": {},
   "outputs": [
    {
     "data": {
      "text/html": [
       "<div>\n",
       "<style scoped>\n",
       "    .dataframe tbody tr th:only-of-type {\n",
       "        vertical-align: middle;\n",
       "    }\n",
       "\n",
       "    .dataframe tbody tr th {\n",
       "        vertical-align: top;\n",
       "    }\n",
       "\n",
       "    .dataframe thead th {\n",
       "        text-align: right;\n",
       "    }\n",
       "</style>\n",
       "<table border=\"1\" class=\"dataframe\">\n",
       "  <thead>\n",
       "    <tr style=\"text-align: right;\">\n",
       "      <th></th>\n",
       "      <th>PassengerId</th>\n",
       "      <th>Survived</th>\n",
       "      <th>Pclass</th>\n",
       "      <th>Name</th>\n",
       "      <th>Sex</th>\n",
       "      <th>Age</th>\n",
       "      <th>SibSp</th>\n",
       "      <th>Parch</th>\n",
       "      <th>Ticket</th>\n",
       "      <th>Fare</th>\n",
       "      <th>Cabin</th>\n",
       "      <th>Embarked</th>\n",
       "    </tr>\n",
       "  </thead>\n",
       "  <tbody>\n",
       "    <tr>\n",
       "      <th>778</th>\n",
       "      <td>779</td>\n",
       "      <td>0</td>\n",
       "      <td>3</td>\n",
       "      <td>Kilgannon, Mr. Thomas J</td>\n",
       "      <td>male</td>\n",
       "      <td>NaN</td>\n",
       "      <td>0</td>\n",
       "      <td>0</td>\n",
       "      <td>36865</td>\n",
       "      <td>7.7375</td>\n",
       "      <td>NaN</td>\n",
       "      <td>Q</td>\n",
       "    </tr>\n",
       "    <tr>\n",
       "      <th>696</th>\n",
       "      <td>697</td>\n",
       "      <td>0</td>\n",
       "      <td>3</td>\n",
       "      <td>Kelly, Mr. James</td>\n",
       "      <td>male</td>\n",
       "      <td>44.0</td>\n",
       "      <td>0</td>\n",
       "      <td>0</td>\n",
       "      <td>363592</td>\n",
       "      <td>8.0500</td>\n",
       "      <td>NaN</td>\n",
       "      <td>S</td>\n",
       "    </tr>\n",
       "    <tr>\n",
       "      <th>477</th>\n",
       "      <td>478</td>\n",
       "      <td>0</td>\n",
       "      <td>3</td>\n",
       "      <td>Braund, Mr. Lewis Richard</td>\n",
       "      <td>male</td>\n",
       "      <td>29.0</td>\n",
       "      <td>1</td>\n",
       "      <td>0</td>\n",
       "      <td>3460</td>\n",
       "      <td>7.0458</td>\n",
       "      <td>NaN</td>\n",
       "      <td>S</td>\n",
       "    </tr>\n",
       "    <tr>\n",
       "      <th>457</th>\n",
       "      <td>458</td>\n",
       "      <td>1</td>\n",
       "      <td>1</td>\n",
       "      <td>Kenyon, Mrs. Frederick R (Marion)</td>\n",
       "      <td>female</td>\n",
       "      <td>NaN</td>\n",
       "      <td>1</td>\n",
       "      <td>0</td>\n",
       "      <td>17464</td>\n",
       "      <td>51.8625</td>\n",
       "      <td>D21</td>\n",
       "      <td>S</td>\n",
       "    </tr>\n",
       "    <tr>\n",
       "      <th>818</th>\n",
       "      <td>819</td>\n",
       "      <td>0</td>\n",
       "      <td>3</td>\n",
       "      <td>Holm, Mr. John Fredrik Alexander</td>\n",
       "      <td>male</td>\n",
       "      <td>43.0</td>\n",
       "      <td>0</td>\n",
       "      <td>0</td>\n",
       "      <td>C 7075</td>\n",
       "      <td>6.4500</td>\n",
       "      <td>NaN</td>\n",
       "      <td>S</td>\n",
       "    </tr>\n",
       "  </tbody>\n",
       "</table>\n",
       "</div>"
      ],
      "text/plain": [
       "     PassengerId  Survived  Pclass                               Name     Sex  \\\n",
       "778          779         0       3            Kilgannon, Mr. Thomas J    male   \n",
       "696          697         0       3                   Kelly, Mr. James    male   \n",
       "477          478         0       3          Braund, Mr. Lewis Richard    male   \n",
       "457          458         1       1  Kenyon, Mrs. Frederick R (Marion)  female   \n",
       "818          819         0       3   Holm, Mr. John Fredrik Alexander    male   \n",
       "\n",
       "      Age  SibSp  Parch  Ticket     Fare Cabin Embarked  \n",
       "778   NaN      0      0   36865   7.7375   NaN        Q  \n",
       "696  44.0      0      0  363592   8.0500   NaN        S  \n",
       "477  29.0      1      0    3460   7.0458   NaN        S  \n",
       "457   NaN      1      0   17464  51.8625   D21        S  \n",
       "818  43.0      0      0  C 7075   6.4500   NaN        S  "
      ]
     },
     "execution_count": 2,
     "metadata": {},
     "output_type": "execute_result"
    }
   ],
   "source": [
    "# Read the input training and test data\n",
    "train_data = pd.read_csv(\"C:\\Study\\DataSets\\Titanic-Survival\\\\train.csv\")\n",
    "test_data = pd.read_csv(\"C:\\Study\\DataSets\\Titanic-Survival\\\\test.csv\")\n",
    "train_data.sample(5)"
   ]
  },
  {
   "cell_type": "code",
   "execution_count": 3,
   "metadata": {},
   "outputs": [
    {
     "data": {
      "text/plain": [
       "PassengerId    0.000000\n",
       "Survived       0.000000\n",
       "Pclass         0.000000\n",
       "Name           0.000000\n",
       "Sex            0.000000\n",
       "Age            0.198653\n",
       "SibSp          0.000000\n",
       "Parch          0.000000\n",
       "Ticket         0.000000\n",
       "Fare           0.000000\n",
       "Cabin          0.771044\n",
       "Embarked       0.002245\n",
       "dtype: float64"
      ]
     },
     "execution_count": 3,
     "metadata": {},
     "output_type": "execute_result"
    }
   ],
   "source": [
    "# Is there any empty data in training dataset?\n",
    "train_data.isnull().sum()/train_data.shape[0]"
   ]
  },
  {
   "cell_type": "code",
   "execution_count": 4,
   "metadata": {},
   "outputs": [
    {
     "data": {
      "text/plain": [
       "PassengerId    0.000000\n",
       "Pclass         0.000000\n",
       "Name           0.000000\n",
       "Sex            0.000000\n",
       "Age            0.205742\n",
       "SibSp          0.000000\n",
       "Parch          0.000000\n",
       "Ticket         0.000000\n",
       "Fare           0.002392\n",
       "Cabin          0.782297\n",
       "Embarked       0.000000\n",
       "dtype: float64"
      ]
     },
     "execution_count": 4,
     "metadata": {},
     "output_type": "execute_result"
    }
   ],
   "source": [
    "test_data.isnull().sum()/test_data.shape[0]"
   ]
  },
  {
   "cell_type": "markdown",
   "metadata": {},
   "source": [
    "## Section 3 : Prepare data for analysis: Pre-process data"
   ]
  },
  {
   "cell_type": "markdown",
   "metadata": {},
   "source": [
    "### Age : Fill missing data\n",
    "Fill missing Age data based on Salutation/Title value"
   ]
  },
  {
   "cell_type": "code",
   "execution_count": 5,
   "metadata": {},
   "outputs": [],
   "source": [
    "# Exract new feature as Salutation or Title\n",
    "train_data[\"Salutation\"] = train_data.Name.str.split(',').str[1].str.split('.').str[0].str.strip()\n",
    "test_data[\"Salutation\"] = test_data.Name.str.split(',').str[1].str.split('.').str[0].str.strip()"
   ]
  },
  {
   "cell_type": "code",
   "execution_count": 6,
   "metadata": {},
   "outputs": [],
   "source": [
    "# Apparently, there is only one passenger in train_data with Salaution as \"Don\" and \n",
    "# only one in test_data with salutation as \"Dona\". Let us replace both with \"Mr.\" and \"Mrs.\" respectively\n",
    "train_data.Salutation = train_data.Salutation.replace('Don', 'Mr')\n",
    "test_data.Salutation = test_data.Salutation.replace('Dona', 'Mrs')"
   ]
  },
  {
   "cell_type": "code",
   "execution_count": 7,
   "metadata": {},
   "outputs": [
    {
     "name": "stdout",
     "output_type": "stream",
     "text": [
      "Number of unique Salutations in merged dataset: 16\n",
      "List of unique Salutations in merged dataset: ['Mr' 'Mrs' 'Miss' 'Master' 'Rev' 'Dr' 'Mme' 'Ms' 'Major' 'Lady' 'Sir'\n",
      " 'Mlle' 'Col' 'Capt' 'the Countess' 'Jonkheer']\n"
     ]
    }
   ],
   "source": [
    "# Concatenate/merge Salutation and Age data from train and test datasets\n",
    "cols = ['Salutation', 'Age']\n",
    "frames = train_data[cols], test_data[cols]\n",
    "sal_age_merged = pd.concat(frames)\n",
    "print(\"Number of unique Salutations in merged dataset:\", sal_age_merged['Salutation'].unique().shape[0])\n",
    "print(\"List of unique Salutations in merged dataset:\", sal_age_merged['Salutation'].unique())"
   ]
  },
  {
   "cell_type": "code",
   "execution_count": 8,
   "metadata": {},
   "outputs": [
    {
     "name": "stdout",
     "output_type": "stream",
     "text": [
      "Missing values in Age column now: in training data = 0  and in test data = 0\n"
     ]
    }
   ],
   "source": [
    "# Fill missing Age values on train and test data based on Salutation\n",
    "sal_age_merged_median = sal_age_merged.groupby(\"Salutation\", as_index=True).Age.mean()\n",
    "sal_age_merged_dict = sal_age_merged_median.to_dict()\n",
    "\n",
    "train_data.Age = train_data.Age.fillna(train_data.Salutation.map(sal_age_merged_dict), axis=0)\n",
    "test_data.Age = test_data.Age.fillna(test_data.Salutation.map(sal_age_merged_dict), axis=0)\n",
    "\n",
    "print(\"Missing values in Age column now: in training data =\", \n",
    "      train_data.Age.isnull().sum(), \" and in test data =\", \n",
    "      test_data.Age.isnull().sum())"
   ]
  },
  {
   "cell_type": "markdown",
   "metadata": {},
   "source": [
    "### AgeGroup : Add new feature\n",
    "##### Categorize Age in bucket of 15 years"
   ]
  },
  {
   "cell_type": "code",
   "execution_count": 9,
   "metadata": {},
   "outputs": [],
   "source": [
    "train_data['AgeGroup'] = train_data.Age // 15 * 15\n",
    "test_data['AgeGroup'] = test_data.Age // 15 * 15"
   ]
  },
  {
   "cell_type": "markdown",
   "metadata": {},
   "source": [
    "### Fare : Fill missing values (only in test dataset)"
   ]
  },
  {
   "cell_type": "code",
   "execution_count": 10,
   "metadata": {},
   "outputs": [
    {
     "name": "stdout",
     "output_type": "stream",
     "text": [
      "Missing values in Fare column now: in test data = 0\n"
     ]
    }
   ],
   "source": [
    "test_data.Fare = train_data.Age.fillna(train_data.Fare.mean(), axis=0)\n",
    "print(\"Missing values in Fare column now: in test data =\", test_data.Fare.isnull().sum())"
   ]
  },
  {
   "cell_type": "markdown",
   "metadata": {},
   "source": [
    "### FareGroup : Add new feature\n",
    "#### Categorize Fare in bucket of GBP 25"
   ]
  },
  {
   "cell_type": "code",
   "execution_count": 11,
   "metadata": {},
   "outputs": [],
   "source": [
    "train_data['FareGroup'] = train_data.Fare // 25 * 25\n",
    "test_data['FareGroup'] = test_data.Fare // 25 * 25"
   ]
  },
  {
   "cell_type": "markdown",
   "metadata": {},
   "source": [
    "### Embarked : Fill missing data"
   ]
  },
  {
   "cell_type": "code",
   "execution_count": 12,
   "metadata": {},
   "outputs": [
    {
     "name": "stdout",
     "output_type": "stream",
     "text": [
      "Missing values in Embarked column now: 0\n"
     ]
    }
   ],
   "source": [
    "train_data.Embarked = train_data.Embarked.fillna('S', axis=0)\n",
    "print(\"Missing values in Embarked column now:\", train_data.Embarked.isnull().sum())"
   ]
  },
  {
   "cell_type": "markdown",
   "metadata": {},
   "source": [
    "### CabinAvail : Add new feature \n",
    "#### CabinAvail = 1 if Cabin is not-null and CabinAvail = 0 if Cabin is null"
   ]
  },
  {
   "cell_type": "code",
   "execution_count": 13,
   "metadata": {},
   "outputs": [],
   "source": [
    "train_data[\"CabinAvail\"] = train_data[\"Cabin\"].notnull().astype('int')\n",
    "test_data[\"CabinAvail\"] = test_data[\"Cabin\"].notnull().astype('int')"
   ]
  },
  {
   "cell_type": "markdown",
   "metadata": {},
   "source": [
    "### FamilySize : Add new feature\n",
    "#### Sum of SibSp and Parch"
   ]
  },
  {
   "cell_type": "code",
   "execution_count": 14,
   "metadata": {},
   "outputs": [],
   "source": [
    "train_data['FamilySize'] = train_data.SibSp + train_data.Parch\n",
    "test_data['FamilySize'] = test_data.SibSp + test_data.Parch"
   ]
  },
  {
   "cell_type": "markdown",
   "metadata": {},
   "source": [
    "## Section 5 : Build prediction model and predict outcomes on unseen data"
   ]
  },
  {
   "cell_type": "markdown",
   "metadata": {},
   "source": [
    "### Fearture to be considered for modelling:\n",
    "* Sex (categorical)\n",
    "* Pclass (categorical)\n",
    "* FamilySize (categorical)\n",
    "* CabinAvail (categorical)\n",
    "* Embarked (categorical)\n",
    "* Salutation (categorical)\n",
    "* Age (continuous)\n",
    "* Fare (continuous)\n",
    "\n",
    "#### All features with categorical data will be encoded, and continous features will be scaled (for certain models)"
   ]
  },
  {
   "cell_type": "code",
   "execution_count": 15,
   "metadata": {},
   "outputs": [
    {
     "name": "stdout",
     "output_type": "stream",
     "text": [
      "Size of train data set: (891, 8) (891,)\n"
     ]
    },
    {
     "data": {
      "text/html": [
       "<div>\n",
       "<style scoped>\n",
       "    .dataframe tbody tr th:only-of-type {\n",
       "        vertical-align: middle;\n",
       "    }\n",
       "\n",
       "    .dataframe tbody tr th {\n",
       "        vertical-align: top;\n",
       "    }\n",
       "\n",
       "    .dataframe thead th {\n",
       "        text-align: right;\n",
       "    }\n",
       "</style>\n",
       "<table border=\"1\" class=\"dataframe\">\n",
       "  <thead>\n",
       "    <tr style=\"text-align: right;\">\n",
       "      <th></th>\n",
       "      <th>Sex</th>\n",
       "      <th>Pclass</th>\n",
       "      <th>FamilySize</th>\n",
       "      <th>CabinAvail</th>\n",
       "      <th>Embarked</th>\n",
       "      <th>AgeGroup</th>\n",
       "      <th>Salutation</th>\n",
       "      <th>FareGroup</th>\n",
       "    </tr>\n",
       "  </thead>\n",
       "  <tbody>\n",
       "    <tr>\n",
       "      <th>0</th>\n",
       "      <td>male</td>\n",
       "      <td>3</td>\n",
       "      <td>1</td>\n",
       "      <td>0</td>\n",
       "      <td>S</td>\n",
       "      <td>15.0</td>\n",
       "      <td>Mr</td>\n",
       "      <td>0.0</td>\n",
       "    </tr>\n",
       "    <tr>\n",
       "      <th>1</th>\n",
       "      <td>female</td>\n",
       "      <td>1</td>\n",
       "      <td>1</td>\n",
       "      <td>1</td>\n",
       "      <td>C</td>\n",
       "      <td>30.0</td>\n",
       "      <td>Mrs</td>\n",
       "      <td>50.0</td>\n",
       "    </tr>\n",
       "    <tr>\n",
       "      <th>2</th>\n",
       "      <td>female</td>\n",
       "      <td>3</td>\n",
       "      <td>0</td>\n",
       "      <td>0</td>\n",
       "      <td>S</td>\n",
       "      <td>15.0</td>\n",
       "      <td>Miss</td>\n",
       "      <td>0.0</td>\n",
       "    </tr>\n",
       "    <tr>\n",
       "      <th>3</th>\n",
       "      <td>female</td>\n",
       "      <td>1</td>\n",
       "      <td>1</td>\n",
       "      <td>1</td>\n",
       "      <td>S</td>\n",
       "      <td>30.0</td>\n",
       "      <td>Mrs</td>\n",
       "      <td>50.0</td>\n",
       "    </tr>\n",
       "    <tr>\n",
       "      <th>4</th>\n",
       "      <td>male</td>\n",
       "      <td>3</td>\n",
       "      <td>0</td>\n",
       "      <td>0</td>\n",
       "      <td>S</td>\n",
       "      <td>30.0</td>\n",
       "      <td>Mr</td>\n",
       "      <td>0.0</td>\n",
       "    </tr>\n",
       "  </tbody>\n",
       "</table>\n",
       "</div>"
      ],
      "text/plain": [
       "      Sex  Pclass  FamilySize  CabinAvail Embarked  AgeGroup Salutation  \\\n",
       "0    male       3           1           0        S      15.0         Mr   \n",
       "1  female       1           1           1        C      30.0        Mrs   \n",
       "2  female       3           0           0        S      15.0       Miss   \n",
       "3  female       1           1           1        S      30.0        Mrs   \n",
       "4    male       3           0           0        S      30.0         Mr   \n",
       "\n",
       "   FareGroup  \n",
       "0        0.0  \n",
       "1       50.0  \n",
       "2        0.0  \n",
       "3       50.0  \n",
       "4        0.0  "
      ]
     },
     "execution_count": 15,
     "metadata": {},
     "output_type": "execute_result"
    }
   ],
   "source": [
    "# Seggregate features and target\n",
    "#features_continuous = ['Fare', 'Age']\n",
    "features_continuous = []\n",
    "features_categorical = ['Sex', 'Pclass', 'FamilySize', 'CabinAvail', 'Embarked', 'AgeGroup', 'Salutation', 'FareGroup']\n",
    "\n",
    "features_X = features_continuous + features_categorical\n",
    "train_X = train_data[features_X]\n",
    "train_y = train_data['Survived']\n",
    "print('Size of train data set:', train_X.shape, train_y.shape)\n",
    "train_X.head()"
   ]
  },
  {
   "cell_type": "markdown",
   "metadata": {},
   "source": [
    "### Perform Standard Scaling"
   ]
  },
  {
   "cell_type": "code",
   "execution_count": 16,
   "metadata": {},
   "outputs": [],
   "source": [
    "from sklearn.preprocessing import StandardScaler\n",
    "scalar = StandardScaler()\n",
    "features_scaled = ['Age', 'Fare']\n",
    "#train_X_scaled = scalar.fit_transform(train_X[features_scaled].astype(np.float64))"
   ]
  },
  {
   "cell_type": "code",
   "execution_count": 17,
   "metadata": {},
   "outputs": [
    {
     "data": {
      "text/html": [
       "<div>\n",
       "<style scoped>\n",
       "    .dataframe tbody tr th:only-of-type {\n",
       "        vertical-align: middle;\n",
       "    }\n",
       "\n",
       "    .dataframe tbody tr th {\n",
       "        vertical-align: top;\n",
       "    }\n",
       "\n",
       "    .dataframe thead th {\n",
       "        text-align: right;\n",
       "    }\n",
       "</style>\n",
       "<table border=\"1\" class=\"dataframe\">\n",
       "  <thead>\n",
       "    <tr style=\"text-align: right;\">\n",
       "      <th></th>\n",
       "      <th>Sex</th>\n",
       "      <th>AgeGroup</th>\n",
       "    </tr>\n",
       "  </thead>\n",
       "  <tbody>\n",
       "    <tr>\n",
       "      <th>0</th>\n",
       "      <td>male</td>\n",
       "      <td>0</td>\n",
       "    </tr>\n",
       "    <tr>\n",
       "      <th>1</th>\n",
       "      <td>female</td>\n",
       "      <td>15</td>\n",
       "    </tr>\n",
       "    <tr>\n",
       "      <th>2</th>\n",
       "      <td>male</td>\n",
       "      <td>30</td>\n",
       "    </tr>\n",
       "    <tr>\n",
       "      <th>3</th>\n",
       "      <td>female</td>\n",
       "      <td>45</td>\n",
       "    </tr>\n",
       "    <tr>\n",
       "      <th>4</th>\n",
       "      <td>male</td>\n",
       "      <td>60</td>\n",
       "    </tr>\n",
       "    <tr>\n",
       "      <th>5</th>\n",
       "      <td>female</td>\n",
       "      <td>75</td>\n",
       "    </tr>\n",
       "  </tbody>\n",
       "</table>\n",
       "</div>"
      ],
      "text/plain": [
       "      Sex  AgeGroup\n",
       "0    male         0\n",
       "1  female        15\n",
       "2    male        30\n",
       "3  female        45\n",
       "4    male        60\n",
       "5  female        75"
      ]
     },
     "execution_count": 17,
     "metadata": {},
     "output_type": "execute_result"
    }
   ],
   "source": [
    "train_X = pd.DataFrame({'Sex':['male', 'female']*3, 'AgeGroup':[0,15,30,45,60,75]})\n",
    "train_X"
   ]
  },
  {
   "cell_type": "markdown",
   "metadata": {},
   "source": [
    "### Perform Hot Encoding"
   ]
  },
  {
   "cell_type": "code",
   "execution_count": 22,
   "metadata": {},
   "outputs": [
    {
     "data": {
      "text/plain": [
       "array(['x0_female', 'x0_male', 'x1_0', 'x1_15', 'x1_30', 'x1_45', 'x1_60',\n",
       "       'x1_75'], dtype=object)"
      ]
     },
     "execution_count": 22,
     "metadata": {},
     "output_type": "execute_result"
    }
   ],
   "source": [
    "from sklearn.preprocessing import OneHotEncoder\n",
    "encoder = OneHotEncoder()\n",
    "train_X_encoded = encoder.fit_transform(train_X[['Sex', 'AgeGroup']])\n",
    "encoder.get_feature_names()"
   ]
  },
  {
   "cell_type": "code",
   "execution_count": 112,
   "metadata": {},
   "outputs": [
    {
     "data": {
      "text/html": [
       "<div>\n",
       "<style scoped>\n",
       "    .dataframe tbody tr th:only-of-type {\n",
       "        vertical-align: middle;\n",
       "    }\n",
       "\n",
       "    .dataframe tbody tr th {\n",
       "        vertical-align: top;\n",
       "    }\n",
       "\n",
       "    .dataframe thead th {\n",
       "        text-align: right;\n",
       "    }\n",
       "</style>\n",
       "<table border=\"1\" class=\"dataframe\">\n",
       "  <thead>\n",
       "    <tr style=\"text-align: right;\">\n",
       "      <th></th>\n",
       "      <th>Sex_female</th>\n",
       "      <th>Sex_male</th>\n",
       "      <th>Pclass_1</th>\n",
       "      <th>Pclass_2</th>\n",
       "      <th>Pclass_3</th>\n",
       "      <th>FamilySize_0</th>\n",
       "      <th>FamilySize_1</th>\n",
       "      <th>FamilySize_10</th>\n",
       "      <th>FamilySize_2</th>\n",
       "      <th>FamilySize_3</th>\n",
       "      <th>...</th>\n",
       "      <th>FareGroup_100.0</th>\n",
       "      <th>FareGroup_125.0</th>\n",
       "      <th>FareGroup_150.0</th>\n",
       "      <th>FareGroup_200.0</th>\n",
       "      <th>FareGroup_225.0</th>\n",
       "      <th>FareGroup_25.0</th>\n",
       "      <th>FareGroup_250.0</th>\n",
       "      <th>FareGroup_50.0</th>\n",
       "      <th>FareGroup_500.0</th>\n",
       "      <th>FareGroup_75.0</th>\n",
       "    </tr>\n",
       "  </thead>\n",
       "  <tbody>\n",
       "    <tr>\n",
       "      <th>0</th>\n",
       "      <td>0</td>\n",
       "      <td>1</td>\n",
       "      <td>0</td>\n",
       "      <td>0</td>\n",
       "      <td>1</td>\n",
       "      <td>0</td>\n",
       "      <td>1</td>\n",
       "      <td>0</td>\n",
       "      <td>0</td>\n",
       "      <td>0</td>\n",
       "      <td>...</td>\n",
       "      <td>0</td>\n",
       "      <td>0</td>\n",
       "      <td>0</td>\n",
       "      <td>0</td>\n",
       "      <td>0</td>\n",
       "      <td>0</td>\n",
       "      <td>0</td>\n",
       "      <td>0</td>\n",
       "      <td>0</td>\n",
       "      <td>0</td>\n",
       "    </tr>\n",
       "    <tr>\n",
       "      <th>1</th>\n",
       "      <td>1</td>\n",
       "      <td>0</td>\n",
       "      <td>1</td>\n",
       "      <td>0</td>\n",
       "      <td>0</td>\n",
       "      <td>0</td>\n",
       "      <td>1</td>\n",
       "      <td>0</td>\n",
       "      <td>0</td>\n",
       "      <td>0</td>\n",
       "      <td>...</td>\n",
       "      <td>0</td>\n",
       "      <td>0</td>\n",
       "      <td>0</td>\n",
       "      <td>0</td>\n",
       "      <td>0</td>\n",
       "      <td>0</td>\n",
       "      <td>0</td>\n",
       "      <td>1</td>\n",
       "      <td>0</td>\n",
       "      <td>0</td>\n",
       "    </tr>\n",
       "    <tr>\n",
       "      <th>2</th>\n",
       "      <td>1</td>\n",
       "      <td>0</td>\n",
       "      <td>0</td>\n",
       "      <td>0</td>\n",
       "      <td>1</td>\n",
       "      <td>1</td>\n",
       "      <td>0</td>\n",
       "      <td>0</td>\n",
       "      <td>0</td>\n",
       "      <td>0</td>\n",
       "      <td>...</td>\n",
       "      <td>0</td>\n",
       "      <td>0</td>\n",
       "      <td>0</td>\n",
       "      <td>0</td>\n",
       "      <td>0</td>\n",
       "      <td>0</td>\n",
       "      <td>0</td>\n",
       "      <td>0</td>\n",
       "      <td>0</td>\n",
       "      <td>0</td>\n",
       "    </tr>\n",
       "    <tr>\n",
       "      <th>3</th>\n",
       "      <td>1</td>\n",
       "      <td>0</td>\n",
       "      <td>1</td>\n",
       "      <td>0</td>\n",
       "      <td>0</td>\n",
       "      <td>0</td>\n",
       "      <td>1</td>\n",
       "      <td>0</td>\n",
       "      <td>0</td>\n",
       "      <td>0</td>\n",
       "      <td>...</td>\n",
       "      <td>0</td>\n",
       "      <td>0</td>\n",
       "      <td>0</td>\n",
       "      <td>0</td>\n",
       "      <td>0</td>\n",
       "      <td>0</td>\n",
       "      <td>0</td>\n",
       "      <td>1</td>\n",
       "      <td>0</td>\n",
       "      <td>0</td>\n",
       "    </tr>\n",
       "    <tr>\n",
       "      <th>4</th>\n",
       "      <td>0</td>\n",
       "      <td>1</td>\n",
       "      <td>0</td>\n",
       "      <td>0</td>\n",
       "      <td>1</td>\n",
       "      <td>1</td>\n",
       "      <td>0</td>\n",
       "      <td>0</td>\n",
       "      <td>0</td>\n",
       "      <td>0</td>\n",
       "      <td>...</td>\n",
       "      <td>0</td>\n",
       "      <td>0</td>\n",
       "      <td>0</td>\n",
       "      <td>0</td>\n",
       "      <td>0</td>\n",
       "      <td>0</td>\n",
       "      <td>0</td>\n",
       "      <td>0</td>\n",
       "      <td>0</td>\n",
       "      <td>0</td>\n",
       "    </tr>\n",
       "  </tbody>\n",
       "</table>\n",
       "<p>5 rows × 53 columns</p>\n",
       "</div>"
      ],
      "text/plain": [
       "   Sex_female  Sex_male  Pclass_1  Pclass_2  Pclass_3  FamilySize_0  \\\n",
       "0           0         1         0         0         1             0   \n",
       "1           1         0         1         0         0             0   \n",
       "2           1         0         0         0         1             1   \n",
       "3           1         0         1         0         0             0   \n",
       "4           0         1         0         0         1             1   \n",
       "\n",
       "   FamilySize_1  FamilySize_10  FamilySize_2  FamilySize_3       ...        \\\n",
       "0             1              0             0             0       ...         \n",
       "1             1              0             0             0       ...         \n",
       "2             0              0             0             0       ...         \n",
       "3             1              0             0             0       ...         \n",
       "4             0              0             0             0       ...         \n",
       "\n",
       "   FareGroup_100.0  FareGroup_125.0  FareGroup_150.0  FareGroup_200.0  \\\n",
       "0                0                0                0                0   \n",
       "1                0                0                0                0   \n",
       "2                0                0                0                0   \n",
       "3                0                0                0                0   \n",
       "4                0                0                0                0   \n",
       "\n",
       "   FareGroup_225.0  FareGroup_25.0  FareGroup_250.0  FareGroup_50.0  \\\n",
       "0                0               0                0               0   \n",
       "1                0               0                0               1   \n",
       "2                0               0                0               0   \n",
       "3                0               0                0               1   \n",
       "4                0               0                0               0   \n",
       "\n",
       "   FareGroup_500.0  FareGroup_75.0  \n",
       "0                0               0  \n",
       "1                0               0  \n",
       "2                0               0  \n",
       "3                0               0  \n",
       "4                0               0  \n",
       "\n",
       "[5 rows x 53 columns]"
      ]
     },
     "execution_count": 112,
     "metadata": {},
     "output_type": "execute_result"
    }
   ],
   "source": [
    "train_X = pd.get_dummies((train_X[features_categorical]).astype(str))\n",
    "train_X.head()"
   ]
  },
  {
   "cell_type": "markdown",
   "metadata": {},
   "source": [
    "### Create a Pipeline"
   ]
  },
  {
   "cell_type": "code",
   "execution_count": 113,
   "metadata": {},
   "outputs": [],
   "source": [
    "# Create a Pipeline\n",
    "from sklearn.compose import ColumnTransformer\n",
    "\n",
    "full_pipeline = ColumnTransformer([\n",
    "    #(\"cont_std_scale\", StandardScaler(), features_continuous),\n",
    "    #(\"cate_hot_encode\", OneHotEncoder(), features_categorical),\n",
    "     (\"cate_dummies\", \"passthrough\", train_X.columns)\n",
    "    ])\n",
    "\n",
    "train_X_prepared = full_pipeline.fit_transform(train_X)"
   ]
  },
  {
   "cell_type": "markdown",
   "metadata": {},
   "source": [
    "### Models"
   ]
  },
  {
   "cell_type": "markdown",
   "metadata": {},
   "source": [
    "#### Utility Functions"
   ]
  },
  {
   "cell_type": "code",
   "execution_count": 114,
   "metadata": {},
   "outputs": [],
   "source": [
    "# Check CV accuracy\n",
    "from sklearn.model_selection import cross_val_score\n",
    "def checkCrossValAccuracy(model, X=train_X_prepared, y=train_y, cv=3, scoring=\"accuracy\"):\n",
    "    cv_score = cross_val_score(model, X, y, cv=cv, scoring=scoring)\n",
    "    print(\"CV Accuracy =\", cv_score)\n",
    "    print(\"CV Accuracy Mean =\", cv_score.mean())\n",
    "    return cv_score"
   ]
  },
  {
   "cell_type": "markdown",
   "metadata": {},
   "source": [
    "#### Prepare classification models"
   ]
  },
  {
   "cell_type": "code",
   "execution_count": 115,
   "metadata": {},
   "outputs": [],
   "source": [
    "from sklearn.svm import LinearSVC\n",
    "linsvc_clf = LinearSVC()\n",
    "\n",
    "from sklearn.svm import SVC\n",
    "svc_clf = SVC()\n",
    "\n",
    "from sklearn.linear_model import SGDClassifier\n",
    "sgd_clf = SGDClassifier()\n",
    "\n",
    "from sklearn.linear_model import LogisticRegression\n",
    "logreg_clf = LogisticRegression()\n",
    "\n",
    "from sklearn.tree import DecisionTreeClassifier\n",
    "tree_clf = DecisionTreeClassifier()\n",
    "\n",
    "from sklearn.ensemble import RandomForestClassifier\n",
    "forest_clf = RandomForestClassifier()\n",
    "\n",
    "from sklearn.neighbors import KNeighborsClassifier\n",
    "knn_clf = KNeighborsClassifier()\n",
    "\n",
    "from sklearn.neural_network import MLPClassifier\n",
    "mlp_clf = MLPClassifier()"
   ]
  },
  {
   "cell_type": "markdown",
   "metadata": {},
   "source": [
    "#### Test the above classification models"
   ]
  },
  {
   "cell_type": "code",
   "execution_count": 116,
   "metadata": {},
   "outputs": [
    {
     "name": "stdout",
     "output_type": "stream",
     "text": [
      "LinearSVC : 0.8226644423851873\n",
      "SVC : 0.795666126554949\n",
      "SGDClassifier : 0.7846128448709069\n",
      "LogisticRegression : 0.8238132880249467\n",
      "DecisionTreeClassifier : 0.7845811048848725\n",
      "RandomForestClassifier : 0.7991819240247579\n",
      "KNeighborsClassifier : 0.8126462388825824\n",
      "MLPClassifier : 0.8025526396142688\n"
     ]
    },
    {
     "data": {
      "image/png": "[encoded data removed]",
      "text/plain": [
       "<Figure size 720x360 with 1 Axes>"
      ]
     },
     "metadata": {
      "needs_background": "light"
     },
     "output_type": "display_data"
    }
   ],
   "source": [
    "model_name, model_score = [], []\n",
    "models = [linsvc_clf, svc_clf, sgd_clf, logreg_clf, tree_clf, forest_clf, knn_clf, mlp_clf]\n",
    "for _clf_model in models:\n",
    "    cv_score = cross_val_score(_clf_model, train_X_prepared, train_y, cv=5, scoring='accuracy')\n",
    "    print(_clf_model.__class__.__name__,  \":\", cv_score.mean())\n",
    "    model_name.append(_clf_model.__class__.__name__)\n",
    "    model_score.append(cv_score.mean())\n",
    "\n",
    "\n",
    "# Plot the data\n",
    "fig, axes = plt.subplots(figsize=(10,5))\n",
    "ax = sns.barplot(x=model_name, y=model_score, ci=None, ax = axes)\n",
    "axes.set_xticklabels(model_name, rotation=90)\n",
    "axes.set_ylim(0,1)\n",
    "axes.set_title('CV Performance of Classification Models')\n",
    "axes.grid(True)\n",
    "plt.show()"
   ]
  },
  {
   "cell_type": "markdown",
   "metadata": {},
   "source": [
    "#### Ensemble - Hard Voting Classifier"
   ]
  },
  {
   "cell_type": "code",
   "execution_count": 45,
   "metadata": {},
   "outputs": [
    {
     "name": "stdout",
     "output_type": "stream",
     "text": [
      "CV Accuracy = [0.80446927 0.81005587 0.81460674 0.79775281 0.84745763]\n",
      "CV Accuracy Mean = 0.8148684634690493\n"
     ]
    }
   ],
   "source": [
    "from sklearn.ensemble import VotingClassifier\n",
    "logreg_clf = LogisticRegression(C=0.5, max_iter=500, solver='newton-cg')\n",
    "\n",
    "estimators=[('linsvc_clf', linsvc_clf), ('svc_clf', svc_clf), ('sgd_clf', sgd_clf), \n",
    "            ('logreg_clf', logreg_clf), ('tree_clf', tree_clf), ('forest_clf', forest_clf),\n",
    "            ('knn_clf', knn_clf), ('mlp_clf', mlp_clf)]\n",
    "\n",
    "voting_hard_clf = VotingClassifier(estimators=estimators, voting='hard')\n",
    "voting_hard_clf.fit(train_X_prepared, train_y)\n",
    "\n",
    "voting_hard_cv_score = checkCrossValAccuracy(voting_hard_clf, X=train_X_prepared)"
   ]
  },
  {
   "cell_type": "markdown",
   "metadata": {},
   "source": [
    "#### Ensemble - Soft Voting Classifier"
   ]
  },
  {
   "cell_type": "code",
   "execution_count": 46,
   "metadata": {},
   "outputs": [
    {
     "name": "stdout",
     "output_type": "stream",
     "text": [
      "CV Accuracy = [0.81005587 0.81005587 0.82022472 0.79775281 0.83615819]\n",
      "CV Accuracy Mean = 0.8148494904047716\n"
     ]
    }
   ],
   "source": [
    "from sklearn.ensemble import VotingClassifier\n",
    "\n",
    "svc_clf_proba = SVC(probability=True)\n",
    "sgd_clf = SGDClassifier(loss='log')\n",
    "\n",
    "estimators=[('svc_clf_proba', svc_clf_proba), ('sgd_clf', sgd_clf), \n",
    "            ('logreg_clf', logreg_clf), ('tree_clf', tree_clf), ('forest_clf', forest_clf),\n",
    "            ('knn_clf', knn_clf), ('mlp_clf', mlp_clf)]\n",
    "\n",
    "voting_soft_clf = VotingClassifier(estimators=estimators, voting='soft')\n",
    "voting_soft_clf.fit(train_X_prepared, train_y)\n",
    "\n",
    "voting_soft_cv_score = checkCrossValAccuracy(voting_soft_clf, X=train_X_prepared)"
   ]
  },
  {
   "cell_type": "markdown",
   "metadata": {},
   "source": [
    "#### Ensemble - Gradient Boost"
   ]
  },
  {
   "cell_type": "code",
   "execution_count": 117,
   "metadata": {},
   "outputs": [
    {
     "name": "stdout",
     "output_type": "stream",
     "text": [
      "CV Accuracy = [0.81144781 0.83164983 0.81481481]\n",
      "CV Accuracy Mean = 0.819304152637486\n"
     ]
    }
   ],
   "source": [
    "from sklearn.ensemble import GradientBoostingClassifier\n",
    "\n",
    "gdb_clf = GradientBoostingClassifier(learning_rate=0.1, loss='deviance',\n",
    "                                     max_depth=2, max_features=0.2)\n",
    "gdb_clf.fit(train_X_prepared, train_y)\n",
    "\n",
    "gdb_cv_score = checkCrossValAccuracy(gdb_clf, X=train_X_prepared)"
   ]
  },
  {
   "cell_type": "code",
   "execution_count": 118,
   "metadata": {},
   "outputs": [
    {
     "data": {
      "text/plain": [
       "[(0.28664510366574986, 'Salutation_Mr'),\n",
       " (0.13968380359123356, 'Sex_male'),\n",
       " (0.10993702598330347, 'Sex_female'),\n",
       " (0.10608329340178832, 'Pclass_3'),\n",
       " (0.0749553525250244, 'CabinAvail_0'),\n",
       " (0.03070487071052797, 'CabinAvail_1'),\n",
       " (0.024050970201328317, 'Pclass_1'),\n",
       " (0.022885641816312693, 'Salutation_Master'),\n",
       " (0.022158186034114825, 'Salutation_Mrs'),\n",
       " (0.020037627127960318, 'FamilySize_4'),\n",
       " (0.0195491129366961, 'FamilySize_5'),\n",
       " (0.011353774270634547, 'FamilySize_2'),\n",
       " (0.010757070055068839, 'Pclass_2'),\n",
       " (0.009550695454053841, 'FamilySize_10'),\n",
       " (0.009183991857762377, 'Embarked_S'),\n",
       " (0.009131303024428711, 'FareGroup_0.0'),\n",
       " (0.00891002462290142, 'FareGroup_25.0'),\n",
       " (0.008620445581829013, 'Salutation_Rev'),\n",
       " (0.008119504267226177, 'Embarked_C'),\n",
       " (0.007823569049834769, 'AgeGroup_15.0'),\n",
       " (0.007722224644979409, 'FamilySize_7'),\n",
       " (0.007384239825478645, 'AgeGroup_0.0'),\n",
       " (0.006040706382255037, 'Salutation_Miss'),\n",
       " (0.004894625929290741, 'AgeGroup_45.0'),\n",
       " (0.00452261442953466, 'FareGroup_500.0'),\n",
       " (0.004235499602436136, 'AgeGroup_60.0'),\n",
       " (0.0029021602625603007, 'FamilySize_3'),\n",
       " (0.002573776799664522, 'AgeGroup_75.0'),\n",
       " (0.002447834095031696, 'FareGroup_-0.0'),\n",
       " (0.0023739315862604613, 'Salutation_Dr'),\n",
       " (0.0019624267535127255, 'FareGroup_75.0'),\n",
       " (0.0018663924907320992, 'FareGroup_50.0'),\n",
       " (0.0018161518103597912, 'Salutation_Capt'),\n",
       " (0.0016855969621198908, 'FamilySize_0'),\n",
       " (0.001665550494735581, 'FareGroup_150.0'),\n",
       " (0.00138834544580599, 'AgeGroup_30.0'),\n",
       " (0.0011081574553334964, 'FareGroup_200.0'),\n",
       " (0.0008005220585144285, 'FamilySize_6'),\n",
       " (0.000760231448897442, 'Embarked_Q'),\n",
       " (0.0006357874594047732, 'FareGroup_100.0'),\n",
       " (0.00044241298550410995, 'FareGroup_225.0'),\n",
       " (0.00034943284130220433, 'FareGroup_250.0'),\n",
       " (0.00028001195013501346, 'Salutation_Jonkheer'),\n",
       " (1.0837145253559989e-10, 'FamilySize_1'),\n",
       " (0.0, 'Salutation_the Countess'),\n",
       " (0.0, 'Salutation_Sir'),\n",
       " (0.0, 'Salutation_Ms'),\n",
       " (0.0, 'Salutation_Mme'),\n",
       " (0.0, 'Salutation_Mlle'),\n",
       " (0.0, 'Salutation_Major'),\n",
       " (0.0, 'Salutation_Lady'),\n",
       " (0.0, 'Salutation_Col'),\n",
       " (0.0, 'FareGroup_125.0')]"
      ]
     },
     "execution_count": 118,
     "metadata": {},
     "output_type": "execute_result"
    }
   ],
   "source": [
    "#cat_one_hot_attribs = list(encoder.classes_)\n",
    "#sorted(zip(gdb_clf.feature_importances_, full_pipeline.get_feature_names()), reverse=True)\n",
    "sorted(zip(gdb_clf.feature_importances_, train_X.columns), reverse=True)"
   ]
  },
  {
   "cell_type": "markdown",
   "metadata": {},
   "source": [
    "#### Ensemble - Bagging"
   ]
  },
  {
   "cell_type": "code",
   "execution_count": 51,
   "metadata": {},
   "outputs": [
    {
     "name": "stdout",
     "output_type": "stream",
     "text": [
      "CV Accuracy = [0.82681564 0.82681564 0.80337079 0.81460674 0.84180791]\n",
      "CV Accuracy Mean = 0.8226833445221218\n"
     ]
    }
   ],
   "source": [
    "from sklearn.ensemble import BaggingClassifier\n",
    "from sklearn.tree import DecisionTreeClassifier\n",
    "\n",
    "bag_clf = BaggingClassifier(\n",
    "        LogisticRegression(), n_estimators=1000,\n",
    "        max_samples=1.0, bootstrap=True)\n",
    "bag_clf.fit(train_X_prepared, train_y)\n",
    "\n",
    "bagging_cv_score = checkCrossValAccuracy(bag_clf, X=train_X_prepared)"
   ]
  },
  {
   "cell_type": "markdown",
   "metadata": {},
   "source": [
    "#### Ensemble - Pasting"
   ]
  },
  {
   "cell_type": "code",
   "execution_count": 52,
   "metadata": {},
   "outputs": [
    {
     "name": "stdout",
     "output_type": "stream",
     "text": [
      "CV Accuracy = [0.82681564 0.82681564 0.80337079 0.81460674 0.84745763]\n",
      "CV Accuracy Mean = 0.8238132880249467\n"
     ]
    }
   ],
   "source": [
    "from sklearn.ensemble import BaggingClassifier\n",
    "\n",
    "pas_clf = BaggingClassifier(\n",
    "        LogisticRegression(), n_estimators=500,\n",
    "        max_samples=1.0, bootstrap=False)\n",
    "pas_clf.fit(train_X_prepared, train_y)\n",
    "\n",
    "pasting_cv_score = checkCrossValAccuracy(pas_clf, X=train_X_prepared)"
   ]
  },
  {
   "cell_type": "code",
   "execution_count": 53,
   "metadata": {},
   "outputs": [
    {
     "name": "stdout",
     "output_type": "stream",
     "text": [
      "Fitting 5 folds for each of 128 candidates, totalling 640 fits\n"
     ]
    },
    {
     "name": "stderr",
     "output_type": "stream",
     "text": [
      "[Parallel(n_jobs=-1)]: Using backend LokyBackend with 4 concurrent workers.\n",
      "[Parallel(n_jobs=-1)]: Done  42 tasks      | elapsed:   17.8s\n",
      "[Parallel(n_jobs=-1)]: Done 192 tasks      | elapsed:   56.1s\n",
      "[Parallel(n_jobs=-1)]: Done 442 tasks      | elapsed:  1.9min\n"
     ]
    },
    {
     "name": "stdout",
     "output_type": "stream",
     "text": [
      "grid_search.best_params_ = {'learning_rate': 0.1, 'loss': 'deviance', 'max_depth': 2, 'max_features': 0.2}\n",
      "grid_search.best_score_ = 0.8294051627384961\n"
     ]
    },
    {
     "name": "stderr",
     "output_type": "stream",
     "text": [
      "[Parallel(n_jobs=-1)]: Done 640 out of 640 | elapsed:  2.8min finished\n"
     ]
    }
   ],
   "source": [
    "# GridSearchCV to find optimal parameters on GradientBoostingClassifier\n",
    "from sklearn.model_selection import GridSearchCV\n",
    "\n",
    "param_grid = [{'learning_rate': [0.01, 0.03, 0.1, 0.3], 'max_features': [0.2, 0.5, 0.8, 1.0],\n",
    "               'loss': ['deviance', 'exponential'], 'max_depth': [2, 5, 10, 20]\n",
    "              }]\n",
    "\n",
    "gdb_gs_clf = GradientBoostingClassifier()\n",
    "grid_search = GridSearchCV(gdb_gs_clf, param_grid, cv=5, n_jobs=-1, verbose=1)\n",
    "grid_search.fit(train_X_prepared, train_y)\n",
    "\n",
    "print(\"grid_search.best_params_ =\", grid_search.best_params_)\n",
    "print(\"grid_search.best_score_ =\", grid_search.best_score_)"
   ]
  },
  {
   "cell_type": "code",
   "execution_count": 54,
   "metadata": {},
   "outputs": [
    {
     "name": "stderr",
     "output_type": "stream",
     "text": [
      "[Parallel(n_jobs=-1)]: Using backend LokyBackend with 4 concurrent workers.\n"
     ]
    },
    {
     "name": "stdout",
     "output_type": "stream",
     "text": [
      "Fitting 5 folds for each of 40 candidates, totalling 200 fits\n"
     ]
    },
    {
     "name": "stderr",
     "output_type": "stream",
     "text": [
      "[Parallel(n_jobs=-1)]: Done  65 tasks      | elapsed:    1.8s\n",
      "[Parallel(n_jobs=-1)]: Done 193 out of 200 | elapsed:    4.9s remaining:    0.1s\n",
      "[Parallel(n_jobs=-1)]: Done 200 out of 200 | elapsed:    5.1s finished\n"
     ]
    },
    {
     "name": "stdout",
     "output_type": "stream",
     "text": [
      "grid_search.best_params_ = {'C': 1.0, 'fit_intercept': True, 'solver': 'newton-cg'}\n",
      "grid_search.best_score_ = 0.8237934904601572\n"
     ]
    }
   ],
   "source": [
    "# GridSearchCV to find optimal parameters on LogisticRegression\n",
    "from sklearn.model_selection import GridSearchCV\n",
    "\n",
    "param_grid = [{'fit_intercept': [True, False],\n",
    "              # 'max_iter': [100, 500, 1000, 5000, 10000],\n",
    "               'solver': ['newton-cg', 'lbfgs', 'liblinear', 'sag', 'saga'],\n",
    "               'C': [1.0, 0.5, 0.1, 2.0],\n",
    "              }]\n",
    "\n",
    "logreg_gs_clf = LogisticRegression()\n",
    "grid_search = GridSearchCV(logreg_gs_clf, param_grid, cv=5, n_jobs=-1, verbose=1)\n",
    "grid_search.fit(train_X_prepared, train_y)\n",
    "\n",
    "print(\"grid_search.best_params_ =\", grid_search.best_params_)\n",
    "print(\"grid_search.best_score_ =\", grid_search.best_score_)"
   ]
  },
  {
   "cell_type": "markdown",
   "metadata": {},
   "source": [
    "### Prepare submission file for Kaggle test data"
   ]
  },
  {
   "cell_type": "code",
   "execution_count": 109,
   "metadata": {},
   "outputs": [],
   "source": [
    "# Length of test dataset \n",
    "test_data_m = test_data.shape[0]\n",
    "\n",
    "# Submission output path\n",
    "submission_out_path = os.path.join(\"C:\\Study\\DataSets\\\\Titanic-Survival\", \n",
    "                                   \"Submission_04Feb19_gdb_clf.csv\")\n",
    "\n",
    "# Transform test data\n",
    "test_X_prepared = full_pipeline.transform(test_data)\n",
    "\n",
    "# ============================\n",
    "# Change the clf model below\n",
    "# ============================\n",
    "test_prediction = gdb_clf.predict(test_X_prepared)\n",
    "\n",
    "my_submission = pd.DataFrame({ \\\n",
    "            'PassengerId': test_data.PassengerId, \\\n",
    "            'Survived': test_prediction})\n",
    "my_submission.to_csv(submission_out_path, index=False)"
   ]
  }
 ],
 "metadata": {
  "kernelspec": {
   "display_name": "Python 3",
   "language": "python",
   "name": "python3"
  },
  "language_info": {
   "codemirror_mode": {
    "name": "ipython",
    "version": 3
   },
   "file_extension": ".py",
   "mimetype": "text/x-python",
   "name": "python",
   "nbconvert_exporter": "python",
   "pygments_lexer": "ipython3",
   "version": "3.7.0"
  }
 },
 "nbformat": 4,
 "nbformat_minor": 2
}
