{
 "cells": [
  {
   "cell_type": "markdown",
   "metadata": {},
   "source": [
    "## Read data, split data into train and test, extract features and target"
   ]
  },
  {
   "cell_type": "code",
   "execution_count": 1,
   "metadata": {},
   "outputs": [],
   "source": [
    "import pandas as pd\n",
    "import numpy as np\n",
    "import os\n",
    "import time\n",
    "\n",
    "from importlib import reload\n",
    "import deep_neural_network as dnn\n",
    "\n",
    "#%run deep_neural_network.ipynb # Importing my implementation of DNN\n",
    "#%load_ext autoreload\n",
    "#%autoreload 2\n",
    "#%reload_ext autoreload"
   ]
  },
  {
   "cell_type": "code",
   "execution_count": 2,
   "metadata": {},
   "outputs": [
    {
     "name": "stdout",
     "output_type": "stream",
     "text": [
      "Dataset size = (42000, 785)\n"
     ]
    }
   ],
   "source": [
    "mnist = pd.read_csv(os.path.join(\"C:\\Study\\DataSets\\MNIST_Handwritten_Digit_Recognizer\", \"train.csv\"))\n",
    "print(\"Dataset size =\", mnist.shape)\n",
    "\n",
    "# Prepare features(X) and target(y)\n",
    "X = mnist.drop(\"label\", axis=1)\n",
    "y = mnist[\"label\"]"
   ]
  },
  {
   "cell_type": "code",
   "execution_count": 3,
   "metadata": {},
   "outputs": [
    {
     "name": "stdout",
     "output_type": "stream",
     "text": [
      "Length of train_set = 33600 AND test_set = 8400\n",
      "Length of shuffled train_set = 33600\n"
     ]
    }
   ],
   "source": [
    "# Split dataset into train and test set\n",
    "from sklearn.model_selection import train_test_split\n",
    "\n",
    "train_set, test_set = train_test_split(mnist, test_size=0.2, random_state=42)\n",
    "print(\"Length of train_set =\", train_set.shape[0], \"AND test_set =\", test_set.shape[0])\n",
    "\n",
    "# Now shuffle the train dataset\n",
    "split_idx = len(train_set)\n",
    "shuffle_index = np.random.permutation(split_idx)\n",
    "train_set = train_set.iloc[shuffle_index]\n",
    "print(\"Length of shuffled train_set =\", train_set.shape[0])"
   ]
  },
  {
   "cell_type": "code",
   "execution_count": 4,
   "metadata": {},
   "outputs": [],
   "source": [
    "# Extract features(X) and target(y) from train and test set\n",
    "X_train = train_set.drop(\"label\", axis=1)\n",
    "y_train = train_set[\"label\"]\n",
    "\n",
    "X_test = test_set.drop(\"label\", axis=1)\n",
    "y_test = test_set[\"label\"]"
   ]
  },
  {
   "cell_type": "code",
   "execution_count": 5,
   "metadata": {},
   "outputs": [
    {
     "name": "stdout",
     "output_type": "stream",
     "text": [
      "Shape of train_set = (784, 33600) (1, 33600) AND test_set = (784, 8400) (1, 8400)\n"
     ]
    }
   ],
   "source": [
    "# Transpose the shape of datasets\n",
    "X_train = X_train.values.T\n",
    "y_train = y_train.values.reshape(1, -1)\n",
    "\n",
    "X_test = X_test.values.T\n",
    "y_test = y_test.values.reshape(1, -1)\n",
    "\n",
    "print(\"Shape of train_set =\", X_train.shape, y_train.shape, \"AND test_set =\", X_test.shape, y_test.shape)"
   ]
  },
  {
   "cell_type": "code",
   "execution_count": 6,
   "metadata": {},
   "outputs": [],
   "source": [
    "# Standardize data to have feature values between 0 and 1.\n",
    "X_train = X_train/255.0\n",
    "X_test = X_test/255.0"
   ]
  },
  {
   "cell_type": "code",
   "execution_count": 7,
   "metadata": {},
   "outputs": [
    {
     "data": {
      "text/plain": [
       "(1, 33600)"
      ]
     },
     "execution_count": 7,
     "metadata": {},
     "output_type": "execute_result"
    }
   ],
   "source": [
    "# In order to treat this as a binary classification problem,\n",
    "# training the model only for digit 5\n",
    "y_train_5 = (y_train == 5) #True for all 5s, False for all other digits\n",
    "y_test_5 = (y_test == 5)\n",
    "y_train_5.shape"
   ]
  },
  {
   "cell_type": "markdown",
   "metadata": {},
   "source": [
    "## Build DNN model"
   ]
  },
  {
   "cell_type": "code",
   "execution_count": 18,
   "metadata": {},
   "outputs": [
    {
     "data": {
      "text/plain": [
       "[784, 50, 30, 20, 10, 1]"
      ]
     },
     "execution_count": 18,
     "metadata": {},
     "output_type": "execute_result"
    }
   ],
   "source": [
    "# Define number of nodes in each layer\n",
    "# of the L-layer model\n",
    "layers_dims = [X_train.shape[0], 50, 30, 20, 10, 1]\n",
    "layers_dims"
   ]
  },
  {
   "cell_type": "code",
   "execution_count": 19,
   "metadata": {
    "scrolled": true
   },
   "outputs": [
    {
     "name": "stdout",
     "output_type": "stream",
     "text": [
      "Cost after iteration 0: 0.726411\n",
      "Cost after iteration 100: 0.065372\n",
      "Cost after iteration 200: 0.040708\n",
      "Cost after iteration 300: 0.019757\n",
      "Cost after iteration 400: 0.013633\n",
      "Cost after iteration 500: 0.012837\n",
      "Cost after iteration 600: 0.006968\n",
      "Cost after iteration 700: 0.004694\n",
      "Cost after iteration 800: 0.003294\n",
      "Cost after iteration 900: 0.002408\n"
     ]
    },
    {
     "data": {
      "image/png": "[encoded data removed]",
      "text/plain": [
       "<Figure size 432x288 with 1 Axes>"
      ]
     },
     "metadata": {
      "needs_background": "light"
     },
     "output_type": "display_data"
    }
   ],
   "source": [
    "reload(dnn)\n",
    "\n",
    "parameters = dnn.train_neural_network(X_train, y_train_5, layers_dims, learning_rate = 0.3, \n",
    "                                      num_iterations = 1000, print_cost = True)"
   ]
  },
  {
   "cell_type": "code",
   "execution_count": 20,
   "metadata": {},
   "outputs": [
    {
     "name": "stdout",
     "output_type": "stream",
     "text": [
      "Accuracy: 90.79464285714286 %\n"
     ]
    }
   ],
   "source": [
    "# Predict of train data\n",
    "prob_train, pred_train = dnn.predict_output(X_train, y_train_5, parameters)"
   ]
  },
  {
   "cell_type": "code",
   "execution_count": 21,
   "metadata": {},
   "outputs": [
    {
     "name": "stdout",
     "output_type": "stream",
     "text": [
      "Accuracy: 91.64285714285715 %\n"
     ]
    }
   ],
   "source": [
    "# Predict of test data\n",
    "prob_train, pred_train = dnn.predict_output(X_test, y_test_5, parameters)"
   ]
  }
 ],
 "metadata": {
  "kernelspec": {
   "display_name": "Python 3",
   "language": "python",
   "name": "python3"
  },
  "language_info": {
   "codemirror_mode": {
    "name": "ipython",
    "version": 3
   },
   "file_extension": ".py",
   "mimetype": "text/x-python",
   "name": "python",
   "nbconvert_exporter": "python",
   "pygments_lexer": "ipython3",
   "version": "3.7.0"
  }
 },
 "nbformat": 4,
 "nbformat_minor": 2
}
