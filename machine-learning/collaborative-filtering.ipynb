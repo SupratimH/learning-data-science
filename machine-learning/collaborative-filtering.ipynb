{
 "cells": [
  {
   "cell_type": "markdown",
   "metadata": {},
   "source": [
    "# Collaborative Filtering Algorithm\n",
    "## Movie Recommemder System using Collaborative Filtering Algorithm\n",
    "### This is an implementation of Collaborative Filtering Algorithm from scratch, based on the lecture of Andrew NG on the corresponding topic in Coursera.\n",
    "### Dataset source: https://www.kaggle.com/grouplens/movielens-20m-dataset"
   ]
  },
  {
   "cell_type": "code",
   "execution_count": 1,
   "metadata": {},
   "outputs": [
    {
     "data": {
      "application/javascript": [
       "\n",
       "IPython.OutputArea.prototype._should_scroll = function(lines) {\n",
       "    return false;\n",
       "}\n"
      ],
      "text/plain": [
       "<IPython.core.display.Javascript object>"
      ]
     },
     "metadata": {},
     "output_type": "display_data"
    }
   ],
   "source": [
    "# Import libraries\n",
    "import numpy as np\n",
    "import pandas as pd\n",
    "import matplotlib.pyplot as plt\n",
    "import seaborn as sns\n",
    "%matplotlib inline\n",
    "import warnings\n",
    "warnings.filterwarnings('ignore')\n",
    "import os\n",
    "from textwrap import wrap\n",
    "\n",
    "# Set default fontsize and colors for graphs\n",
    "SMALL_SIZE, MEDIUM_SIZE, BIG_SIZE = 8, 12, 16\n",
    "plt.rc('font', size=MEDIUM_SIZE)       \n",
    "plt.rc('axes', titlesize=BIG_SIZE)     \n",
    "plt.rc('axes', labelsize=MEDIUM_SIZE)  \n",
    "plt.rc('xtick', labelsize=MEDIUM_SIZE) \n",
    "plt.rc('ytick', labelsize=MEDIUM_SIZE) \n",
    "plt.rc('legend', fontsize=SMALL_SIZE)  \n",
    "plt.rc('figure', titlesize=BIG_SIZE)\n",
    "my_colors = 'rgbkymc'\n",
    "\n",
    "# Disable scrolling for long output\n",
    "from IPython.display import display, Javascript\n",
    "disable_js = \"\"\"\n",
    "IPython.OutputArea.prototype._should_scroll = function(lines) {\n",
    "    return false;\n",
    "}\n",
    "\"\"\"\n",
    "display(Javascript(disable_js))"
   ]
  },
  {
   "cell_type": "markdown",
   "metadata": {},
   "source": [
    "## (1) Read and Prepare Data"
   ]
  },
  {
   "cell_type": "markdown",
   "metadata": {},
   "source": [
    "### Read \"movie\" and \"rating\" dataset"
   ]
  },
  {
   "cell_type": "code",
   "execution_count": 2,
   "metadata": {},
   "outputs": [],
   "source": [
    "# Read the input training data\n",
    "input_data_file_movie = \"C:\\Study\\DataSets\\movielens-20m-dataset\\\\movie.csv\"\n",
    "input_data_file_rating = \"C:\\Study\\DataSets\\movielens-20m-dataset\\\\rating.csv\"\n",
    "\n",
    "movie_data_all = pd.read_csv(input_data_file_movie)\n",
    "rating_data_all = pd.read_csv(input_data_file_rating)"
   ]
  },
  {
   "cell_type": "code",
   "execution_count": 3,
   "metadata": {},
   "outputs": [
    {
     "data": {
      "text/html": [
       "<div>\n",
       "<style scoped>\n",
       "    .dataframe tbody tr th:only-of-type {\n",
       "        vertical-align: middle;\n",
       "    }\n",
       "\n",
       "    .dataframe tbody tr th {\n",
       "        vertical-align: top;\n",
       "    }\n",
       "\n",
       "    .dataframe thead th {\n",
       "        text-align: right;\n",
       "    }\n",
       "</style>\n",
       "<table border=\"1\" class=\"dataframe\">\n",
       "  <thead>\n",
       "    <tr style=\"text-align: right;\">\n",
       "      <th></th>\n",
       "      <th>movieId</th>\n",
       "      <th>title</th>\n",
       "      <th>genres</th>\n",
       "    </tr>\n",
       "  </thead>\n",
       "  <tbody>\n",
       "    <tr>\n",
       "      <th>0</th>\n",
       "      <td>1</td>\n",
       "      <td>Toy Story (1995)</td>\n",
       "      <td>Adventure|Animation|Children|Comedy|Fantasy</td>\n",
       "    </tr>\n",
       "    <tr>\n",
       "      <th>1</th>\n",
       "      <td>2</td>\n",
       "      <td>Jumanji (1995)</td>\n",
       "      <td>Adventure|Children|Fantasy</td>\n",
       "    </tr>\n",
       "    <tr>\n",
       "      <th>2</th>\n",
       "      <td>3</td>\n",
       "      <td>Grumpier Old Men (1995)</td>\n",
       "      <td>Comedy|Romance</td>\n",
       "    </tr>\n",
       "    <tr>\n",
       "      <th>3</th>\n",
       "      <td>4</td>\n",
       "      <td>Waiting to Exhale (1995)</td>\n",
       "      <td>Comedy|Drama|Romance</td>\n",
       "    </tr>\n",
       "    <tr>\n",
       "      <th>4</th>\n",
       "      <td>5</td>\n",
       "      <td>Father of the Bride Part II (1995)</td>\n",
       "      <td>Comedy</td>\n",
       "    </tr>\n",
       "  </tbody>\n",
       "</table>\n",
       "</div>"
      ],
      "text/plain": [
       "   movieId                               title  \\\n",
       "0        1                    Toy Story (1995)   \n",
       "1        2                      Jumanji (1995)   \n",
       "2        3             Grumpier Old Men (1995)   \n",
       "3        4            Waiting to Exhale (1995)   \n",
       "4        5  Father of the Bride Part II (1995)   \n",
       "\n",
       "                                        genres  \n",
       "0  Adventure|Animation|Children|Comedy|Fantasy  \n",
       "1                   Adventure|Children|Fantasy  \n",
       "2                               Comedy|Romance  \n",
       "3                         Comedy|Drama|Romance  \n",
       "4                                       Comedy  "
      ]
     },
     "execution_count": 3,
     "metadata": {},
     "output_type": "execute_result"
    }
   ],
   "source": [
    "movie_data_all.head(5)"
   ]
  },
  {
   "cell_type": "code",
   "execution_count": 4,
   "metadata": {},
   "outputs": [
    {
     "data": {
      "text/html": [
       "<div>\n",
       "<style scoped>\n",
       "    .dataframe tbody tr th:only-of-type {\n",
       "        vertical-align: middle;\n",
       "    }\n",
       "\n",
       "    .dataframe tbody tr th {\n",
       "        vertical-align: top;\n",
       "    }\n",
       "\n",
       "    .dataframe thead th {\n",
       "        text-align: right;\n",
       "    }\n",
       "</style>\n",
       "<table border=\"1\" class=\"dataframe\">\n",
       "  <thead>\n",
       "    <tr style=\"text-align: right;\">\n",
       "      <th></th>\n",
       "      <th>userId</th>\n",
       "      <th>movieId</th>\n",
       "      <th>rating</th>\n",
       "      <th>timestamp</th>\n",
       "    </tr>\n",
       "  </thead>\n",
       "  <tbody>\n",
       "    <tr>\n",
       "      <th>0</th>\n",
       "      <td>1</td>\n",
       "      <td>2</td>\n",
       "      <td>3.5</td>\n",
       "      <td>2005-04-02 23:53:47</td>\n",
       "    </tr>\n",
       "    <tr>\n",
       "      <th>1</th>\n",
       "      <td>1</td>\n",
       "      <td>29</td>\n",
       "      <td>3.5</td>\n",
       "      <td>2005-04-02 23:31:16</td>\n",
       "    </tr>\n",
       "    <tr>\n",
       "      <th>2</th>\n",
       "      <td>1</td>\n",
       "      <td>32</td>\n",
       "      <td>3.5</td>\n",
       "      <td>2005-04-02 23:33:39</td>\n",
       "    </tr>\n",
       "    <tr>\n",
       "      <th>3</th>\n",
       "      <td>1</td>\n",
       "      <td>47</td>\n",
       "      <td>3.5</td>\n",
       "      <td>2005-04-02 23:32:07</td>\n",
       "    </tr>\n",
       "    <tr>\n",
       "      <th>4</th>\n",
       "      <td>1</td>\n",
       "      <td>50</td>\n",
       "      <td>3.5</td>\n",
       "      <td>2005-04-02 23:29:40</td>\n",
       "    </tr>\n",
       "  </tbody>\n",
       "</table>\n",
       "</div>"
      ],
      "text/plain": [
       "   userId  movieId  rating            timestamp\n",
       "0       1        2     3.5  2005-04-02 23:53:47\n",
       "1       1       29     3.5  2005-04-02 23:31:16\n",
       "2       1       32     3.5  2005-04-02 23:33:39\n",
       "3       1       47     3.5  2005-04-02 23:32:07\n",
       "4       1       50     3.5  2005-04-02 23:29:40"
      ]
     },
     "execution_count": 4,
     "metadata": {},
     "output_type": "execute_result"
    }
   ],
   "source": [
    "rating_data_all.head(5)"
   ]
  },
  {
   "cell_type": "code",
   "execution_count": 5,
   "metadata": {},
   "outputs": [
    {
     "name": "stdout",
     "output_type": "stream",
     "text": [
      "Total number of movies = 27278\n",
      "Total number of unique movies = 27278\n",
      "\n",
      "Total number of user ratings = 20000263\n",
      "Total number of unique users = 138493\n"
     ]
    }
   ],
   "source": [
    "print(\"Total number of movies =\", movie_data_all.shape[0])\n",
    "print(\"Total number of unique movies =\", len(movie_data_all.movieId.unique()))\n",
    "print(\"\")\n",
    "print(\"Total number of user ratings =\", rating_data_all.shape[0])\n",
    "print(\"Total number of unique users =\", len(rating_data_all.userId.unique()))"
   ]
  },
  {
   "cell_type": "code",
   "execution_count": 6,
   "metadata": {},
   "outputs": [],
   "source": [
    "# Keep only required columns\n",
    "movie_data_all = movie_data_all.drop(['genres'], axis=1)\n",
    "rating_data_all = rating_data_all.drop(['timestamp'], axis=1)"
   ]
  },
  {
   "cell_type": "code",
   "execution_count": 7,
   "metadata": {},
   "outputs": [],
   "source": [
    "# Test with a subset of data\n",
    "\n",
    "# Fetch num_movies number of movies\n",
    "#num_movies = 10\n",
    "#movie_data = movie_data_all.iloc[:num_movies, :]\n",
    "\n",
    "# Fetch only ratings corresponding to above movies \n",
    "#rating_data = rating_data_all[rating_data_all.movieId.isin(movie_data.movieId)]\n",
    "\n",
    "#print(\"Total number of movies to be used to training =\", movie_data.shape[0])\n",
    "#print(\"Total number of user ratings to be used for training =\", rating_data.shape[0])"
   ]
  },
  {
   "cell_type": "code",
   "execution_count": 8,
   "metadata": {},
   "outputs": [],
   "source": [
    "# Test with a subset of data\n",
    "#num_movies = 500\n",
    "#num_ratings = 10000\n",
    "#movie_data = movie_data.iloc[:num_movies, :]\n",
    "#rating_data = rating_data.iloc[:num_ratings, :]"
   ]
  },
  {
   "cell_type": "markdown",
   "metadata": {},
   "source": [
    "### Select few most popular movies, from two distinct genres. In this particular example, we considered movies of genres \"Action\" and \"Romance\".\n",
    "### The objective is to find if collborative filtering algorithm can successfully learn the features of these movies based on user ratings, such that we can clearly distinguish their genres and recommend accordingly."
   ]
  },
  {
   "cell_type": "code",
   "execution_count": 9,
   "metadata": {},
   "outputs": [
    {
     "data": {
      "text/html": [
       "<div>\n",
       "<style scoped>\n",
       "    .dataframe tbody tr th:only-of-type {\n",
       "        vertical-align: middle;\n",
       "    }\n",
       "\n",
       "    .dataframe tbody tr th {\n",
       "        vertical-align: top;\n",
       "    }\n",
       "\n",
       "    .dataframe thead th {\n",
       "        text-align: right;\n",
       "    }\n",
       "</style>\n",
       "<table border=\"1\" class=\"dataframe\">\n",
       "  <thead>\n",
       "    <tr style=\"text-align: right;\">\n",
       "      <th></th>\n",
       "      <th>movieId</th>\n",
       "      <th>title</th>\n",
       "    </tr>\n",
       "  </thead>\n",
       "  <tbody>\n",
       "    <tr>\n",
       "      <th>591</th>\n",
       "      <td>597</td>\n",
       "      <td>Pretty Woman (1990)</td>\n",
       "    </tr>\n",
       "    <tr>\n",
       "      <th>1171</th>\n",
       "      <td>1196</td>\n",
       "      <td>Star Wars: Episode V - The Empire Strikes Back...</td>\n",
       "    </tr>\n",
       "    <tr>\n",
       "      <th>1278</th>\n",
       "      <td>1307</td>\n",
       "      <td>When Harry Met Sally... (1989)</td>\n",
       "    </tr>\n",
       "    <tr>\n",
       "      <th>1661</th>\n",
       "      <td>1721</td>\n",
       "      <td>Titanic (1997)</td>\n",
       "    </tr>\n",
       "    <tr>\n",
       "      <th>2486</th>\n",
       "      <td>2571</td>\n",
       "      <td>Matrix, The (1999)</td>\n",
       "    </tr>\n",
       "    <tr>\n",
       "      <th>2585</th>\n",
       "      <td>2671</td>\n",
       "      <td>Notting Hill (1999)</td>\n",
       "    </tr>\n",
       "    <tr>\n",
       "      <th>4201</th>\n",
       "      <td>4296</td>\n",
       "      <td>Love Story (1970)</td>\n",
       "    </tr>\n",
       "    <tr>\n",
       "      <th>7041</th>\n",
       "      <td>7153</td>\n",
       "      <td>Lord of the Rings: The Return of the King, The...</td>\n",
       "    </tr>\n",
       "    <tr>\n",
       "      <th>12525</th>\n",
       "      <td>58559</td>\n",
       "      <td>Dark Knight, The (2008)</td>\n",
       "    </tr>\n",
       "    <tr>\n",
       "      <th>15534</th>\n",
       "      <td>79132</td>\n",
       "      <td>Inception (2010)</td>\n",
       "    </tr>\n",
       "  </tbody>\n",
       "</table>\n",
       "</div>"
      ],
      "text/plain": [
       "       movieId                                              title\n",
       "591        597                                Pretty Woman (1990)\n",
       "1171      1196  Star Wars: Episode V - The Empire Strikes Back...\n",
       "1278      1307                     When Harry Met Sally... (1989)\n",
       "1661      1721                                     Titanic (1997)\n",
       "2486      2571                                 Matrix, The (1999)\n",
       "2585      2671                                Notting Hill (1999)\n",
       "4201      4296                                  Love Story (1970)\n",
       "7041      7153  Lord of the Rings: The Return of the King, The...\n",
       "12525    58559                            Dark Knight, The (2008)\n",
       "15534    79132                                   Inception (2010)"
      ]
     },
     "execution_count": 9,
     "metadata": {},
     "output_type": "execute_result"
    }
   ],
   "source": [
    "# Pick top movies\n",
    "top_action_movies = ['Dark Knight, The', 'Lord of the Rings: The Return of the King', \n",
    "                     'Inception', 'Star Wars: Episode V - The Empire Strikes Back',\n",
    "                     'Matrix, The']\n",
    "top_romantic_movies = ['Notting Hill', 'Love Story \\(1970\\)', 'When Harry Met Sally',\n",
    "                       'Titanic \\(1997\\)', 'Pretty Woman']\n",
    "top_movies = top_action_movies + top_romantic_movies\n",
    "\n",
    "movie_data = movie_data_all[movie_data_all.title.str.contains('|'.join(top_movies))]\n",
    "movie_data"
   ]
  },
  {
   "cell_type": "code",
   "execution_count": 10,
   "metadata": {},
   "outputs": [],
   "source": [
    "# Pick all ratings\n",
    "#num_ratings = 2000000\n",
    "rating_data = rating_data_all.iloc[:, :]"
   ]
  },
  {
   "cell_type": "markdown",
   "metadata": {},
   "source": [
    "### Merge movie and rating dataset based on movieId column"
   ]
  },
  {
   "cell_type": "code",
   "execution_count": 11,
   "metadata": {},
   "outputs": [
    {
     "data": {
      "text/html": [
       "<div>\n",
       "<style scoped>\n",
       "    .dataframe tbody tr th:only-of-type {\n",
       "        vertical-align: middle;\n",
       "    }\n",
       "\n",
       "    .dataframe tbody tr th {\n",
       "        vertical-align: top;\n",
       "    }\n",
       "\n",
       "    .dataframe thead th {\n",
       "        text-align: right;\n",
       "    }\n",
       "</style>\n",
       "<table border=\"1\" class=\"dataframe\">\n",
       "  <thead>\n",
       "    <tr style=\"text-align: right;\">\n",
       "      <th></th>\n",
       "      <th>movieId</th>\n",
       "      <th>title</th>\n",
       "      <th>userId</th>\n",
       "      <th>rating</th>\n",
       "    </tr>\n",
       "  </thead>\n",
       "  <tbody>\n",
       "    <tr>\n",
       "      <th>0</th>\n",
       "      <td>597</td>\n",
       "      <td>Pretty Woman (1990)</td>\n",
       "      <td>7</td>\n",
       "      <td>4.0</td>\n",
       "    </tr>\n",
       "    <tr>\n",
       "      <th>1</th>\n",
       "      <td>597</td>\n",
       "      <td>Pretty Woman (1990)</td>\n",
       "      <td>8</td>\n",
       "      <td>5.0</td>\n",
       "    </tr>\n",
       "    <tr>\n",
       "      <th>2</th>\n",
       "      <td>597</td>\n",
       "      <td>Pretty Woman (1990)</td>\n",
       "      <td>11</td>\n",
       "      <td>4.5</td>\n",
       "    </tr>\n",
       "    <tr>\n",
       "      <th>3</th>\n",
       "      <td>597</td>\n",
       "      <td>Pretty Woman (1990)</td>\n",
       "      <td>13</td>\n",
       "      <td>5.0</td>\n",
       "    </tr>\n",
       "    <tr>\n",
       "      <th>4</th>\n",
       "      <td>597</td>\n",
       "      <td>Pretty Woman (1990)</td>\n",
       "      <td>24</td>\n",
       "      <td>3.0</td>\n",
       "    </tr>\n",
       "  </tbody>\n",
       "</table>\n",
       "</div>"
      ],
      "text/plain": [
       "   movieId                title  userId  rating\n",
       "0      597  Pretty Woman (1990)       7     4.0\n",
       "1      597  Pretty Woman (1990)       8     5.0\n",
       "2      597  Pretty Woman (1990)      11     4.5\n",
       "3      597  Pretty Woman (1990)      13     5.0\n",
       "4      597  Pretty Woman (1990)      24     3.0"
      ]
     },
     "execution_count": 11,
     "metadata": {},
     "output_type": "execute_result"
    }
   ],
   "source": [
    "movie_rating_merged_data = movie_data.merge(rating_data, on='movieId', how='inner')\n",
    "movie_rating_merged_data.head()"
   ]
  },
  {
   "cell_type": "code",
   "execution_count": 12,
   "metadata": {},
   "outputs": [
    {
     "data": {
      "text/plain": [
       "3.420427728613569"
      ]
     },
     "execution_count": 12,
     "metadata": {},
     "output_type": "execute_result"
    }
   ],
   "source": [
    "# Mean rating of a movie\n",
    "movie_rating_merged_data[movie_rating_merged_data.title == 'Pretty Woman (1990)']['rating'].mean()"
   ]
  },
  {
   "cell_type": "code",
   "execution_count": 13,
   "metadata": {},
   "outputs": [
    {
     "data": {
      "text/plain": [
       "title\n",
       "Dark Knight, The (2008)                                  4.220129\n",
       "Star Wars: Episode V - The Empire Strikes Back (1980)    4.188202\n",
       "Matrix, The (1999)                                       4.187186\n",
       "Inception (2010)                                         4.156172\n",
       "Lord of the Rings: The Return of the King, The (2003)    4.142382\n",
       "When Harry Met Sally... (1989)                           3.842996\n",
       "Notting Hill (1999)                                      3.453924\n",
       "Pretty Woman (1990)                                      3.420428\n",
       "Titanic (1997)                                           3.338188\n",
       "Love Story (1970)                                        3.173618\n",
       "Name: rating, dtype: float64"
      ]
     },
     "execution_count": 13,
     "metadata": {},
     "output_type": "execute_result"
    }
   ],
   "source": [
    "# Top 10 movies by mean rating\n",
    "movie_rating_merged_data.groupby(['title'], sort=False)['rating'].mean().sort_values(ascending=False).head(10)"
   ]
  },
  {
   "cell_type": "markdown",
   "metadata": {},
   "source": [
    "## (2) Build Collaborative Filtering Model"
   ]
  },
  {
   "cell_type": "markdown",
   "metadata": {},
   "source": [
    "### Create a pivot table of movies (on rows) and corresponsing user ratings (on columns). The pivot table will contain the ratings of only selected movies.\n",
    "### Thus, rows = movies and columns = users"
   ]
  },
  {
   "cell_type": "code",
   "execution_count": 14,
   "metadata": {},
   "outputs": [
    {
     "data": {
      "text/plain": [
       "(10, 94160)"
      ]
     },
     "execution_count": 14,
     "metadata": {},
     "output_type": "execute_result"
    }
   ],
   "source": [
    "movie_rating_merged_pivot = pd.pivot_table(movie_rating_merged_data,\n",
    "                                           index=['title'],\n",
    "                                           columns=['userId'],\n",
    "                                           values=['rating'],\n",
    "                                           dropna=False,\n",
    "                                           fill_value=0\n",
    "                                          )\n",
    "movie_rating_merged_pivot.shape"
   ]
  },
  {
   "cell_type": "code",
   "execution_count": 15,
   "metadata": {},
   "outputs": [],
   "source": [
    "Y = movie_rating_merged_pivot"
   ]
  },
  {
   "cell_type": "markdown",
   "metadata": {},
   "source": [
    "### Create a matrix R, such that, R(i,j) = 1 iff User j has selected a rating for Movie i. R(i,j) = 0 otherwise."
   ]
  },
  {
   "cell_type": "code",
   "execution_count": 16,
   "metadata": {},
   "outputs": [
    {
     "data": {
      "text/plain": [
       "array([[0., 0., 0., ..., 1., 0., 0.],\n",
       "       [0., 0., 0., ..., 0., 0., 0.],\n",
       "       [1., 0., 0., ..., 0., 0., 1.],\n",
       "       ...,\n",
       "       [1., 1., 1., ..., 0., 1., 1.],\n",
       "       [0., 0., 1., ..., 0., 0., 1.],\n",
       "       [0., 0., 1., ..., 0., 1., 0.]])"
      ]
     },
     "execution_count": 16,
     "metadata": {},
     "output_type": "execute_result"
    }
   ],
   "source": [
    "R = np.ones(Y.shape)\n",
    "no_rating_idx = np.where(Y == 0.0)\n",
    "R[no_rating_idx] = 0\n",
    "R"
   ]
  },
  {
   "cell_type": "markdown",
   "metadata": {},
   "source": [
    "### Assign n_m (number of movies), n_u (number of users) and n_f (number of features)"
   ]
  },
  {
   "cell_type": "code",
   "execution_count": 17,
   "metadata": {},
   "outputs": [],
   "source": [
    "n_u = Y.shape[1]\n",
    "n_m = Y.shape[0]\n",
    "n_f = 2"
   ]
  },
  {
   "cell_type": "markdown",
   "metadata": {},
   "source": [
    "### Assign random initial values to movie and user parameters.\n",
    "### X = parameters of movies (each row represent a movie)\n",
    "### Theta = parameters of users (each row represent a user)"
   ]
  },
  {
   "cell_type": "code",
   "execution_count": 18,
   "metadata": {},
   "outputs": [],
   "source": [
    "Initial_X = np.random.rand(n_m, n_f)\n",
    "Initial_Theta = np.random.rand(n_u, n_f)\n",
    "#print(\"Initial_X =\", Initial_X)\n",
    "#print(\"Initial_Theta =\", Initial_Theta)"
   ]
  },
  {
   "cell_type": "markdown",
   "metadata": {},
   "source": [
    "### Cost function or Objective function of collborative filtering algorithm"
   ]
  },
  {
   "cell_type": "code",
   "execution_count": 19,
   "metadata": {},
   "outputs": [],
   "source": [
    "# Cost Function\n",
    "def collabFilterCostFunction(X, Theta, Y, R, reg_lambda):\n",
    "    cost = 0\n",
    "    error = (np.dot(X, Theta.T) - Y) * R\n",
    "    error_sq = np.power(error, 2)\n",
    "    cost = np.sum(np.sum(error_sq)) / 2\n",
    "    cost = cost + (reg_lambda/2) * ( np.sum(np.sum((np.power(X, 2)))) \n",
    "                                    + np.sum(np.sum((np.power(Theta, 2)))) )\n",
    "    return cost"
   ]
  },
  {
   "cell_type": "markdown",
   "metadata": {},
   "source": [
    "### Computation of Gradient Descent of collaborative filtering algorithm"
   ]
  },
  {
   "cell_type": "code",
   "execution_count": 20,
   "metadata": {},
   "outputs": [],
   "source": [
    "# Gradient Descent\n",
    "def collabFilterGradientDescent(X, Theta, Y, R, alpha, reg_lambda, num_iters):\n",
    "    cost_history = np.zeros([num_iters, 1])\n",
    "    \n",
    "    for i in range(num_iters):\n",
    "        error = (np.dot(X, Theta.T) - Y) * R\n",
    "        X_grad = np.dot(error, Theta) + reg_lambda * X\n",
    "        Theta_grad = np.dot(error.T, X) + reg_lambda * Theta\n",
    "        \n",
    "        X = X - alpha * X_grad \n",
    "        Theta = Theta - alpha * Theta_grad\n",
    "        \n",
    "        cost_history[i] = collabFilterCostFunction(X, Theta, Y, R, reg_lambda)\n",
    "        \n",
    "    return X, Theta, cost_history"
   ]
  },
  {
   "cell_type": "markdown",
   "metadata": {},
   "source": [
    "## (3) Train the collborative filtering model"
   ]
  },
  {
   "cell_type": "code",
   "execution_count": 21,
   "metadata": {},
   "outputs": [
    {
     "name": "stdout",
     "output_type": "stream",
     "text": [
      "Find cost = 29810.756341445544\n"
     ]
    }
   ],
   "source": [
    "# Tune hyperparameters\n",
    "alpha = 0.0001\n",
    "num_iters = 25000\n",
    "reg_lambda = 0\n",
    "\n",
    "# Perform gradient descent to find optimal parameters\n",
    "X, Theta = Initial_X, Initial_Theta\n",
    "X, Theta, cost_history = collabFilterGradientDescent(X, Theta, Y, R, alpha, reg_lambda, num_iters)\n",
    "cost = collabFilterCostFunction(X, Theta, Y, R, reg_lambda)\n",
    "print(\"Find cost =\", cost)"
   ]
  },
  {
   "cell_type": "markdown",
   "metadata": {},
   "source": [
    "### Plot cost vs number of iterations"
   ]
  },
  {
   "cell_type": "code",
   "execution_count": 22,
   "metadata": {},
   "outputs": [
    {
     "data": {
      "image/png": "[encoded data removed]",
      "text/plain": [
       "<Figure size 1080x432 with 1 Axes>"
      ]
     },
     "metadata": {
      "needs_background": "light"
     },
     "output_type": "display_data"
    }
   ],
   "source": [
    "fig, axes = plt.subplots(figsize=(15,6))\n",
    "axes.plot(cost_history, 'k--')\n",
    "axes.set_xlabel('# of iterations')\n",
    "axes.set_ylabel('Cost')\n",
    "plt.show()"
   ]
  },
  {
   "cell_type": "markdown",
   "metadata": {},
   "source": [
    "### Since we have considered only 2 genres (and hence 2 features), we plot the learned feature parameters of movies to visualize the pattern.\n",
    "### We find below that the algorithm has learnt the features pretty well and hence the movies of same genre and clustered together. \n",
    "### In this particular example, we considered movies of genres \"Action\" and \"Romance\". From the visualization, it can be concluded that X-axis represents \"Degree of Action\" and Y-axis represents \"Degree of Romance\".\n",
    "### As a next step, we can run K-Means clustering to further verify our understanding."
   ]
  },
  {
   "cell_type": "code",
   "execution_count": 43,
   "metadata": {},
   "outputs": [
    {
     "data": {
      "image/png": "[encoded data removed]",
      "text/plain": [
       "<Figure size 720x720 with 1 Axes>"
      ]
     },
     "metadata": {
      "needs_background": "light"
     },
     "output_type": "display_data"
    }
   ],
   "source": [
    "fig, axes = plt.subplots(figsize=(10,10))\n",
    "axes.scatter(X[:,0], X[:,1], color='red', marker='D')\n",
    "\n",
    "for val, movie in zip(X, Y.index):\n",
    "    axes.text(val[0], val[1], movie)\n",
    "\n",
    "axes.set_xlabel('Degree of Action')\n",
    "axes.set_ylabel('Degree of Romance')\n",
    "axes.set_title('Movie Matrix')\n",
    "\n",
    "plt.show()"
   ]
  },
  {
   "cell_type": "markdown",
   "metadata": {},
   "source": [
    "### For a random user, what are her preferred movies, and what is our recommendation for her based on result of collaborative filtering algorithm?"
   ]
  },
  {
   "cell_type": "code",
   "execution_count": 42,
   "metadata": {},
   "outputs": [
    {
     "name": "stdout",
     "output_type": "stream",
     "text": [
      "Original rating of an user:\n",
      " title\n",
      "Titanic (1997)                                           5.0\n",
      "Pretty Woman (1990)                                      4.5\n",
      "Dark Knight, The (2008)                                  4.5\n",
      "Matrix, The (1999)                                       4.0\n",
      "When Harry Met Sally... (1989)                           0.0\n",
      "Star Wars: Episode V - The Empire Strikes Back (1980)    0.0\n",
      "Notting Hill (1999)                                      0.0\n",
      "Love Story (1970)                                        0.0\n",
      "Lord of the Rings: The Return of the King, The (2003)    0.0\n",
      "Inception (2010)                                         0.0\n",
      "Name: (rating, 75212), dtype: float64\n",
      "\n",
      "Predicted rating of the same user:\n",
      "4.949419178469805 Titanic (1997)\n",
      "4.648944602401086 When Harry Met Sally... (1989)\n",
      "4.6011962815762955 Pretty Woman (1990)\n",
      "4.466691303353013 Inception (2010)\n",
      "4.428913739067579 Notting Hill (1999)\n",
      "4.319574539395297 Dark Knight, The (2008)\n",
      "4.182461804852902 Love Story (1970)\n",
      "4.141161187846041 Matrix, The (1999)\n",
      "3.736902840522276 Lord of the Rings: The Return of the King, The (2003)\n",
      "3.683137159998747 Star Wars: Episode V - The Empire Strikes Back (1980)\n"
     ]
    }
   ],
   "source": [
    "user_idx = np.random.randint(n_u)\n",
    "pred_rating = []\n",
    "print(\"Original rating of an user:\\n\", Y.iloc[:,user_idx].sort_values(ascending=False))\n",
    "\n",
    "predicted_ratings = np.dot(X, Theta.T)\n",
    "predicted_ratings = sorted(zip(predicted_ratings[:,user_idx], Y.index), reverse=True)\n",
    "print(\"\\nPredicted rating of the same user:\")\n",
    "_ = [print(rating, movie) for rating, movie in predicted_ratings]"
   ]
  }
 ],
 "metadata": {
  "kernelspec": {
   "display_name": "Python 3",
   "language": "python",
   "name": "python3"
  },
  "language_info": {
   "codemirror_mode": {
    "name": "ipython",
    "version": 3
   },
   "file_extension": ".py",
   "mimetype": "text/x-python",
   "name": "python",
   "nbconvert_exporter": "python",
   "pygments_lexer": "ipython3",
   "version": "3.7.0"
  }
 },
 "nbformat": 4,
 "nbformat_minor": 2
}
